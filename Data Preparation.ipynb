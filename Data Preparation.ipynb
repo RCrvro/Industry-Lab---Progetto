{
  "nbformat": 4,
  "nbformat_minor": 0,
  "metadata": {
    "colab": {
      "name": "IndustryLab - Progetto.ipynb",
      "provenance": [],
      "collapsed_sections": []
    },
    "kernelspec": {
      "name": "python3",
      "display_name": "Python 3"
    },
    "accelerator": "GPU"
  },
  "cells": [
    {
      "cell_type": "markdown",
      "metadata": {
        "id": "ewQ5_ZsZixfI",
        "colab_type": "text"
      },
      "source": [
        "#**IndustryLab - Progetto.ipynb**"
      ]
    },
    {
      "cell_type": "code",
      "metadata": {
        "id": "Su5aKC1GdPiK",
        "colab_type": "code",
        "colab": {}
      },
      "source": [
        "#Caricamento pacchetto\n",
        "import pandas as pd\n",
        "import numpy as np\n",
        "import seaborn as sns\n",
        "import matplotlib.pyplot as plt\n",
        "from collections import Counter\n",
        "from IPython.display import HTML\n",
        "import io\n",
        "import base64"
      ],
      "execution_count": 0,
      "outputs": []
    },
    {
      "cell_type": "code",
      "metadata": {
        "id": "kffadB18zBMG",
        "colab_type": "code",
        "colab": {}
      },
      "source": [
        "#Configurazione del layout\n",
        "#https://stackoverflow.com/questions/21754976/ipython-notebook-arrange-plots-horizontally \n",
        "\n",
        "class FlowLayout(object):\n",
        "    def __init__(self):\n",
        "        self.sHtml =  \"\"\"\n",
        "        <style>\n",
        "        .floating-box {\n",
        "        display: inline-block;\n",
        "        margin: 10px;\n",
        "        border: 3px solid #888888;  \n",
        "        }\n",
        "        </style>\n",
        "        \"\"\"\n",
        "    def add_plot(self, oAxes):\n",
        "        Bio=io.BytesIO() \n",
        "        fig = oAxes.get_figure()\n",
        "        fig.canvas.print_png(Bio) \n",
        "        sB64Img = base64.b64encode(Bio.getvalue()).decode()\n",
        "        self.sHtml+= (\n",
        "            '<div class=\"floating-box\">'+ \n",
        "            '<img src=\"data:image/png;base64,{}\\n\">'.format(sB64Img)+\n",
        "            '</div>')\n",
        "    def PassHtmlToCell(self):\n",
        "        ''' Final step - display the accumulated HTML '''\n",
        "        display(HTML(self.sHtml))\n",
        "\n",
        "oPlot = FlowLayout()"
      ],
      "execution_count": 0,
      "outputs": []
    },
    {
      "cell_type": "code",
      "metadata": {
        "id": "49TJdrk9SMc7",
        "colab_type": "code",
        "outputId": "ff7237e9-1519-448c-9b6e-06a7b8263e33",
        "colab": {
          "base_uri": "https://localhost:8080/",
          "height": 134
        }
      },
      "source": [
        "#Caricamento db originale\n",
        "db = pd.read_csv(\"/content/Caso2.csv\")\n",
        "db.head(1)"
      ],
      "execution_count": 0,
      "outputs": [
        {
          "output_type": "execute_result",
          "data": {
            "text/html": [
              "<div>\n",
              "<style scoped>\n",
              "    .dataframe tbody tr th:only-of-type {\n",
              "        vertical-align: middle;\n",
              "    }\n",
              "\n",
              "    .dataframe tbody tr th {\n",
              "        vertical-align: top;\n",
              "    }\n",
              "\n",
              "    .dataframe thead th {\n",
              "        text-align: right;\n",
              "    }\n",
              "</style>\n",
              "<table border=\"1\" class=\"dataframe\">\n",
              "  <thead>\n",
              "    <tr style=\"text-align: right;\">\n",
              "      <th></th>\n",
              "      <th>Banco</th>\n",
              "      <th>CodiceDaLinea</th>\n",
              "      <th>Programma</th>\n",
              "      <th>Data_ora</th>\n",
              "      <th>Data</th>\n",
              "      <th>Ora</th>\n",
              "      <th>Turno</th>\n",
              "      <th>Master</th>\n",
              "      <th>coppia_max_ciclo</th>\n",
              "      <th>picco_coppia_zero</th>\n",
              "      <th>media_coppia_zero</th>\n",
              "      <th>picco_coppia_iniziale</th>\n",
              "      <th>media_coppia_iniziale</th>\n",
              "      <th>velocita_a_regime</th>\n",
              "      <th>picco_pressione_velocita_a_regime</th>\n",
              "      <th>media_pressione_velocita_a_regime</th>\n",
              "      <th>picco_portata_velocita_a_regime</th>\n",
              "      <th>media_portata_velocita_a_regime</th>\n",
              "      <th>velicita_1</th>\n",
              "      <th>picco_pressione_velocita_1</th>\n",
              "      <th>media_pressione_velocita_1</th>\n",
              "      <th>picco_portata_velocita_1</th>\n",
              "      <th>media_portata_velocita_1</th>\n",
              "      <th>velocita_2</th>\n",
              "      <th>picco_pressione_velocita_2</th>\n",
              "      <th>media_pressione_velocita_2</th>\n",
              "      <th>picco_portata_velocita_2</th>\n",
              "      <th>media_portata_velocita_2</th>\n",
              "      <th>picco_coppia_finale</th>\n",
              "      <th>media_coppia_finale</th>\n",
              "      <th>Temperatura</th>\n",
              "      <th>n_esito</th>\n",
              "      <th>esito</th>\n",
              "    </tr>\n",
              "  </thead>\n",
              "  <tbody>\n",
              "    <tr>\n",
              "      <th>0</th>\n",
              "      <td>BancoGP5</td>\n",
              "      <td>010160954163140A00000000000</td>\n",
              "      <td>18_GP5_910_CW.DBF</td>\n",
              "      <td>2016-11-09 15:43:30</td>\n",
              "      <td>09/11/2016</td>\n",
              "      <td>15:43:30</td>\n",
              "      <td>B</td>\n",
              "      <td></td>\n",
              "      <td>0.0</td>\n",
              "      <td>0.0</td>\n",
              "      <td>0.000917</td>\n",
              "      <td>0.0</td>\n",
              "      <td>0.0</td>\n",
              "      <td>2300.0</td>\n",
              "      <td>12.209582</td>\n",
              "      <td>12.041801</td>\n",
              "      <td>1343.039795</td>\n",
              "      <td>1341.342041</td>\n",
              "      <td>140.0</td>\n",
              "      <td>1.674603</td>\n",
              "      <td>1.643796</td>\n",
              "      <td>51.519997</td>\n",
              "      <td>51.481518</td>\n",
              "      <td>500.0</td>\n",
              "      <td>0.0</td>\n",
              "      <td>0.0</td>\n",
              "      <td>0.0</td>\n",
              "      <td>0.0</td>\n",
              "      <td>0.204679</td>\n",
              "      <td>0.1438</td>\n",
              "      <td>42.196945</td>\n",
              "      <td>100</td>\n",
              "      <td>PEZZO BUONO                                   ...</td>\n",
              "    </tr>\n",
              "  </tbody>\n",
              "</table>\n",
              "</div>"
            ],
            "text/plain": [
              "      Banco  ...                                              esito\n",
              "0  BancoGP5  ...  PEZZO BUONO                                   ...\n",
              "\n",
              "[1 rows x 33 columns]"
            ]
          },
          "metadata": {
            "tags": []
          },
          "execution_count": 49
        }
      ]
    },
    {
      "cell_type": "markdown",
      "metadata": {
        "id": "a_SduPKOi7d6",
        "colab_type": "text"
      },
      "source": [
        "##**Data Preparation**"
      ]
    },
    {
      "cell_type": "code",
      "metadata": {
        "id": "OyrnY5AWvWQt",
        "colab_type": "code",
        "outputId": "9c28fdab-b374-4867-bfba-af0dc4a8d075",
        "colab": {
          "base_uri": "https://localhost:8080/",
          "height": 275
        }
      },
      "source": [
        "print(len(db.columns))\n",
        "print(db.columns)"
      ],
      "execution_count": 0,
      "outputs": [
        {
          "output_type": "stream",
          "text": [
            "33\n",
            "Index(['Banco', 'CodiceDaLinea', 'Programma', 'Data_ora', 'Data', 'Ora',\n",
            "       'Turno', 'Master', 'coppia_max_ciclo', 'picco_coppia_zero',\n",
            "       'media_coppia_zero', 'picco_coppia_iniziale', 'media_coppia_iniziale',\n",
            "       'velocita_a_regime', 'picco_pressione_velocita_a_regime',\n",
            "       'media_pressione_velocita_a_regime', 'picco_portata_velocita_a_regime',\n",
            "       'media_portata_velocita_a_regime', 'velicita_1',\n",
            "       'picco_pressione_velocita_1', 'media_pressione_velocita_1',\n",
            "       'picco_portata_velocita_1', 'media_portata_velocita_1', 'velocita_2',\n",
            "       'picco_pressione_velocita_2', 'media_pressione_velocita_2',\n",
            "       'picco_portata_velocita_2', 'media_portata_velocita_2',\n",
            "       'picco_coppia_finale', 'media_coppia_finale', 'Temperatura', 'n_esito',\n",
            "       'esito'],\n",
            "      dtype='object')\n"
          ],
          "name": "stdout"
        }
      ]
    },
    {
      "cell_type": "code",
      "metadata": {
        "id": "7NEdZf5JvqO3",
        "colab_type": "code",
        "outputId": "61361f63-ba9e-409e-f19a-dd912df23e69",
        "colab": {
          "base_uri": "https://localhost:8080/",
          "height": 187
        }
      },
      "source": [
        "classes = {}\n",
        "for i in db.columns:\n",
        "  classes[i]=len(db[i].unique())\n",
        "\n",
        "#Useless variables\n",
        "useless = dict((k, v) for k, v in classes.items() if v == 1)\n",
        "useless_list = [i for i in useless.keys()]\n",
        "useless_list"
      ],
      "execution_count": 0,
      "outputs": [
        {
          "output_type": "execute_result",
          "data": {
            "text/plain": [
              "['Banco',\n",
              " 'Master',\n",
              " 'picco_coppia_zero',\n",
              " 'picco_coppia_iniziale',\n",
              " 'media_coppia_iniziale',\n",
              " 'velicita_1',\n",
              " 'picco_pressione_velocita_2',\n",
              " 'media_pressione_velocita_2',\n",
              " 'picco_portata_velocita_2',\n",
              " 'media_portata_velocita_2']"
            ]
          },
          "metadata": {
            "tags": []
          },
          "execution_count": 28
        }
      ]
    },
    {
      "cell_type": "markdown",
      "metadata": {
        "id": "ERL5BgSujNIs",
        "colab_type": "text"
      },
      "source": [
        "####Rimozione costanti"
      ]
    },
    {
      "cell_type": "code",
      "metadata": {
        "id": "BGFpbs4NzKZz",
        "colab_type": "code",
        "colab": {}
      },
      "source": [
        "useful = set([i for i in db.columns]) - set(useless_list) - set(['Data','Ora'])\n",
        "db_ = db[[i for i in useful]]"
      ],
      "execution_count": 0,
      "outputs": []
    },
    {
      "cell_type": "code",
      "metadata": {
        "id": "9coXyr5tCG-e",
        "colab_type": "code",
        "outputId": "f2aa9463-460e-4e28-c57c-120cbe66a735",
        "colab": {
          "base_uri": "https://localhost:8080/",
          "height": 207
        }
      },
      "source": [
        "#Variabili finali\n",
        "print(\"Num. variabili utili: \",len(db_.columns))\n",
        "db_.columns"
      ],
      "execution_count": 0,
      "outputs": [
        {
          "output_type": "stream",
          "text": [
            "Num. variabili utili:  21\n"
          ],
          "name": "stdout"
        },
        {
          "output_type": "execute_result",
          "data": {
            "text/plain": [
              "Index(['picco_pressione_velocita_1', 'Turno', 'picco_coppia_finale',\n",
              "       'picco_portata_velocita_1', 'n_esito', 'Temperatura',\n",
              "       'media_pressione_velocita_1', 'media_coppia_finale', 'Data_ora',\n",
              "       'media_coppia_zero', 'media_portata_velocita_a_regime', 'velocita_2',\n",
              "       'picco_pressione_velocita_a_regime', 'media_portata_velocita_1',\n",
              "       'coppia_max_ciclo', 'velocita_a_regime',\n",
              "       'picco_portata_velocita_a_regime', 'Programma', 'CodiceDaLinea',\n",
              "       'esito', 'media_pressione_velocita_a_regime'],\n",
              "      dtype='object')"
            ]
          },
          "metadata": {
            "tags": []
          },
          "execution_count": 47
        }
      ]
    },
    {
      "cell_type": "code",
      "metadata": {
        "id": "2jWg4wbFTI0_",
        "colab_type": "code",
        "outputId": "435d7749-4089-458c-bfe7-4aca2f8a9a0b",
        "colab": {
          "base_uri": "https://localhost:8080/",
          "height": 139
        }
      },
      "source": [
        "#Order by year\n",
        "db_['Data_ora'] = pd.to_datetime(db_['Data_ora'])\n",
        "db_ord = db.sort_values(by='Data_ora')"
      ],
      "execution_count": 0,
      "outputs": [
        {
          "output_type": "stream",
          "text": [
            "/usr/local/lib/python3.6/dist-packages/ipykernel_launcher.py:2: SettingWithCopyWarning: \n",
            "A value is trying to be set on a copy of a slice from a DataFrame.\n",
            "Try using .loc[row_indexer,col_indexer] = value instead\n",
            "\n",
            "See the caveats in the documentation: https://pandas.pydata.org/pandas-docs/stable/user_guide/indexing.html#returning-a-view-versus-a-copy\n",
            "  \n"
          ],
          "name": "stderr"
        }
      ]
    },
    {
      "cell_type": "markdown",
      "metadata": {
        "id": "nT3FazPuDnYd",
        "colab_type": "text"
      },
      "source": [
        "####Rimozione `velocita_2`"
      ]
    },
    {
      "cell_type": "code",
      "metadata": {
        "id": "ud7wsTsjDqLV",
        "colab_type": "code",
        "outputId": "be403776-c836-45e4-c4e4-e192b0ad7620",
        "colab": {
          "base_uri": "https://localhost:8080/",
          "height": 34
        }
      },
      "source": [
        "#Binario\n",
        "\n",
        "#Useless variables\n",
        "binary = dict((k, v) for k, v in classes.items() if v == 2)\n",
        "binary = [i for i in binary.keys()]\n",
        "binary"
      ],
      "execution_count": 0,
      "outputs": [
        {
          "output_type": "execute_result",
          "data": {
            "text/plain": [
              "['velocita_2']"
            ]
          },
          "metadata": {
            "tags": []
          },
          "execution_count": 52
        }
      ]
    },
    {
      "cell_type": "code",
      "metadata": {
        "id": "7fJDxd-iEOIz",
        "colab_type": "code",
        "outputId": "8787d46d-1527-4af2-94b5-1f84caf25527",
        "colab": {
          "base_uri": "https://localhost:8080/",
          "height": 34
        }
      },
      "source": [
        "db_.velocita_2.unique()"
      ],
      "execution_count": 0,
      "outputs": [
        {
          "output_type": "execute_result",
          "data": {
            "text/plain": [
              "array([500., 100.])"
            ]
          },
          "metadata": {
            "tags": []
          },
          "execution_count": 54
        }
      ]
    },
    {
      "cell_type": "code",
      "metadata": {
        "id": "DYhL9IPBEneQ",
        "colab_type": "code",
        "outputId": "242e9d17-e154-452d-d07c-0754403bd7be",
        "colab": {
          "base_uri": "https://localhost:8080/",
          "height": 34
        }
      },
      "source": [
        "print(dict(Counter(db_.velocita_2)))"
      ],
      "execution_count": 0,
      "outputs": [
        {
          "output_type": "stream",
          "text": [
            "{500.0: 296598, 100.0: 7}\n"
          ],
          "name": "stdout"
        }
      ]
    },
    {
      "cell_type": "code",
      "metadata": {
        "id": "UurIv00dPZn_",
        "colab_type": "code",
        "colab": {}
      },
      "source": [
        "#Rimozione velocita_2\n",
        "db_.drop(['velocita_2'], axis='columns', inplace=True)"
      ],
      "execution_count": 0,
      "outputs": []
    },
    {
      "cell_type": "markdown",
      "metadata": {
        "id": "eXtraJVnF8Bn",
        "colab_type": "text"
      },
      "source": [
        "La variabile 'velocita_2' ha praticamente solo valori pari a 500."
      ]
    },
    {
      "cell_type": "code",
      "metadata": {
        "id": "4kFLfi44pfh8",
        "colab_type": "code",
        "colab": {}
      },
      "source": [
        "#Esporta csv\n",
        "#db.to_csv(\"/content/DbRidotto1.csv\")"
      ],
      "execution_count": 0,
      "outputs": []
    },
    {
      "cell_type": "code",
      "metadata": {
        "id": "8aHJb3v6jIRN",
        "colab_type": "code",
        "colab": {
          "base_uri": "https://localhost:8080/",
          "height": 134
        },
        "outputId": "71188e06-cf5b-4e37-f6c3-983e5772c28b"
      },
      "source": [
        "#Caricamento db ridotto\n",
        "db = pd.read_csv(\"/content/DbRidotto.csv\")\n",
        "db.drop(['Unnamed: 0'], axis='columns', inplace=True)\n",
        "db.head(1)"
      ],
      "execution_count": 5,
      "outputs": [
        {
          "output_type": "execute_result",
          "data": {
            "text/html": [
              "<div>\n",
              "<style scoped>\n",
              "    .dataframe tbody tr th:only-of-type {\n",
              "        vertical-align: middle;\n",
              "    }\n",
              "\n",
              "    .dataframe tbody tr th {\n",
              "        vertical-align: top;\n",
              "    }\n",
              "\n",
              "    .dataframe thead th {\n",
              "        text-align: right;\n",
              "    }\n",
              "</style>\n",
              "<table border=\"1\" class=\"dataframe\">\n",
              "  <thead>\n",
              "    <tr style=\"text-align: right;\">\n",
              "      <th></th>\n",
              "      <th>picco_pressione_velocita_1</th>\n",
              "      <th>Turno</th>\n",
              "      <th>picco_coppia_finale</th>\n",
              "      <th>picco_portata_velocita_1</th>\n",
              "      <th>Temperatura</th>\n",
              "      <th>media_pressione_velocita_1</th>\n",
              "      <th>media_coppia_finale</th>\n",
              "      <th>Data_ora</th>\n",
              "      <th>media_coppia_zero</th>\n",
              "      <th>media_portata_velocita_a_regime</th>\n",
              "      <th>picco_pressione_velocita_a_regime</th>\n",
              "      <th>media_portata_velocita_1</th>\n",
              "      <th>coppia_max_ciclo</th>\n",
              "      <th>velocita_a_regime</th>\n",
              "      <th>picco_portata_velocita_a_regime</th>\n",
              "      <th>Programma</th>\n",
              "      <th>esito</th>\n",
              "      <th>media_pressione_velocita_a_regime</th>\n",
              "    </tr>\n",
              "  </thead>\n",
              "  <tbody>\n",
              "    <tr>\n",
              "      <th>0</th>\n",
              "      <td>1.674603</td>\n",
              "      <td>B</td>\n",
              "      <td>0.204679</td>\n",
              "      <td>51.519997</td>\n",
              "      <td>42.196945</td>\n",
              "      <td>1.643796</td>\n",
              "      <td>0.1438</td>\n",
              "      <td>2016-11-09 15:43:30</td>\n",
              "      <td>0.000917</td>\n",
              "      <td>1341.342041</td>\n",
              "      <td>12.209582</td>\n",
              "      <td>51.481518</td>\n",
              "      <td>0.0</td>\n",
              "      <td>2300.0</td>\n",
              "      <td>1343.039795</td>\n",
              "      <td>18_GP5_910_CW.DBF</td>\n",
              "      <td>PEZZO BUONO                                   ...</td>\n",
              "      <td>12.041801</td>\n",
              "    </tr>\n",
              "  </tbody>\n",
              "</table>\n",
              "</div>"
            ],
            "text/plain": [
              "   picco_pressione_velocita_1  ... media_pressione_velocita_a_regime\n",
              "0                    1.674603  ...                         12.041801\n",
              "\n",
              "[1 rows x 18 columns]"
            ]
          },
          "metadata": {
            "tags": []
          },
          "execution_count": 5
        }
      ]
    },
    {
      "cell_type": "markdown",
      "metadata": {
        "id": "4XiBJHiajeY-",
        "colab_type": "text"
      },
      "source": [
        "##**Analisi preliminari**"
      ]
    },
    {
      "cell_type": "markdown",
      "metadata": {
        "id": "zI_jFzUoGL4f",
        "colab_type": "text"
      },
      "source": [
        "###**Variabili categoriche**"
      ]
    },
    {
      "cell_type": "code",
      "metadata": {
        "id": "7x7EW0y0GNmI",
        "colab_type": "code",
        "outputId": "02a205a0-1514-486b-8c20-a8719c1d0df5",
        "colab": {
          "base_uri": "https://localhost:8080/",
          "height": 85
        }
      },
      "source": [
        "#Numero di classi\n",
        "print(\"Turno: \",len(db_.Turno.unique()))\n",
        "print(\"Programma\",len(db_.Programma.unique()))\n",
        "print(\"CodiceDaLinea\",len(db_.CodiceDaLinea.unique()))\n",
        "print(\"Esito\",len(db_.esito.unique()))"
      ],
      "execution_count": 0,
      "outputs": [
        {
          "output_type": "stream",
          "text": [
            "Turno:  9\n",
            "Programma 18\n",
            "CodiceDaLinea 294489\n",
            "Esito 25\n"
          ],
          "name": "stdout"
        }
      ]
    },
    {
      "cell_type": "markdown",
      "metadata": {
        "id": "Hzb28S9gkhv5",
        "colab_type": "text"
      },
      "source": [
        "####Rimozione `CodiceDaLinea`"
      ]
    },
    {
      "cell_type": "code",
      "metadata": {
        "id": "CmWPIME9HIT-",
        "colab_type": "code",
        "colab": {}
      },
      "source": [
        "#Rimozione CodiceDaLinea\n",
        "db_.drop(['CodiceDaLinea'], axis='columns', inplace=True)"
      ],
      "execution_count": 0,
      "outputs": []
    },
    {
      "cell_type": "markdown",
      "metadata": {
        "id": "QYMQ0rM2kzaJ",
        "colab_type": "text"
      },
      "source": [
        "####Analisi `Turno`"
      ]
    },
    {
      "cell_type": "code",
      "metadata": {
        "id": "ke9_XF4cGomr",
        "colab_type": "code",
        "outputId": "8871a49c-0be2-4572-dcc5-ec091f9d0556",
        "colab": {
          "base_uri": "https://localhost:8080/",
          "height": 585
        }
      },
      "source": [
        "##Analisi Turno\n",
        "\n",
        "#Elaborazione per plot\n",
        "dbp = db\n",
        "dbp.Turno = dbp.Turno.apply(str)\n",
        "#dbp.Turno = dbp.Turno.replace(\"nan\", np.nan)\n",
        "\n",
        "plt.subplot(111)\n",
        "ax1 = sns.countplot(x=\"Turno\", data=dbp)\n",
        "plt.title(\"Frequenza di classe\")\n",
        "plt.show()\n",
        "\n",
        "plt.subplot(111)\n",
        "ax = sns.countplot(x=\"Turno\", data=dbp)\n",
        "ax.set_yscale('log')\n",
        "plt.title(\"Log-Frequenza di classe\"\n",
        "plt.show()"
      ],
      "execution_count": 85,
      "outputs": [
        {
          "output_type": "display_data",
          "data": {
            "image/png": "[encoded data removed]",
            "text/plain": [
              "<Figure size 432x288 with 1 Axes>"
            ]
          },
          "metadata": {
            "tags": []
          }
        },
        {
          "output_type": "display_data",
          "data": {
            "image/png": "[encoded data removed]",
            "text/plain": [
              "<Figure size 432x288 with 1 Axes>"
            ]
          },
          "metadata": {
            "tags": []
          }
        }
      ]
    },
    {
      "cell_type": "code",
      "metadata": {
        "id": "LvIq6AeFl-oj",
        "colab_type": "code",
        "colab": {
          "base_uri": "https://localhost:8080/",
          "height": 328
        },
        "outputId": "443e9f19-e1da-4a50-c407-f4312060d642"
      },
      "source": [
        "#Mostra il nome e la frequenza di ogni turno\n",
        "P = pd.DataFrame.from_dict(dict(Counter(db.Turno)),orient='index').reset_index()\n",
        "P.columns = ['K','V']\n",
        "P.reset_index()\n",
        "P_ = P.sort_values('V',ascending=False)\n",
        "P_ = P_.reset_index()\n",
        "P_.columns = ['Fattore','Nome','Frequenza']\n",
        "#Aggiung freq relativa\n",
        "P_['%'] = P_.Frequenza/len(db)\n",
        "P_ = P_[['Nome','Frequenza','%']]\n",
        "P_"
      ],
      "execution_count": 105,
      "outputs": [
        {
          "output_type": "execute_result",
          "data": {
            "text/html": [
              "<div>\n",
              "<style scoped>\n",
              "    .dataframe tbody tr th:only-of-type {\n",
              "        vertical-align: middle;\n",
              "    }\n",
              "\n",
              "    .dataframe tbody tr th {\n",
              "        vertical-align: top;\n",
              "    }\n",
              "\n",
              "    .dataframe thead th {\n",
              "        text-align: right;\n",
              "    }\n",
              "</style>\n",
              "<table border=\"1\" class=\"dataframe\">\n",
              "  <thead>\n",
              "    <tr style=\"text-align: right;\">\n",
              "      <th></th>\n",
              "      <th>Nome</th>\n",
              "      <th>Frequenza</th>\n",
              "      <th>%</th>\n",
              "    </tr>\n",
              "  </thead>\n",
              "  <tbody>\n",
              "    <tr>\n",
              "      <th>0</th>\n",
              "      <td>B</td>\n",
              "      <td>89631</td>\n",
              "      <td>0.401436</td>\n",
              "    </tr>\n",
              "    <tr>\n",
              "      <th>1</th>\n",
              "      <td>A</td>\n",
              "      <td>74958</td>\n",
              "      <td>0.335719</td>\n",
              "    </tr>\n",
              "    <tr>\n",
              "      <th>2</th>\n",
              "      <td>C</td>\n",
              "      <td>42214</td>\n",
              "      <td>0.189066</td>\n",
              "    </tr>\n",
              "    <tr>\n",
              "      <th>3</th>\n",
              "      <td>0</td>\n",
              "      <td>13992</td>\n",
              "      <td>0.062667</td>\n",
              "    </tr>\n",
              "    <tr>\n",
              "      <th>4</th>\n",
              "      <td>b</td>\n",
              "      <td>711</td>\n",
              "      <td>0.003184</td>\n",
              "    </tr>\n",
              "    <tr>\n",
              "      <th>5</th>\n",
              "      <td>a</td>\n",
              "      <td>647</td>\n",
              "      <td>0.002898</td>\n",
              "    </tr>\n",
              "    <tr>\n",
              "      <th>6</th>\n",
              "      <td>c</td>\n",
              "      <td>474</td>\n",
              "      <td>0.002123</td>\n",
              "    </tr>\n",
              "    <tr>\n",
              "      <th>7</th>\n",
              "      <td>NaN</td>\n",
              "      <td>436</td>\n",
              "      <td>0.001953</td>\n",
              "    </tr>\n",
              "    <tr>\n",
              "      <th>8</th>\n",
              "      <td>d</td>\n",
              "      <td>213</td>\n",
              "      <td>0.000954</td>\n",
              "    </tr>\n",
              "  </tbody>\n",
              "</table>\n",
              "</div>"
            ],
            "text/plain": [
              "  Nome  Frequenza         %\n",
              "0    B      89631  0.401436\n",
              "1    A      74958  0.335719\n",
              "2    C      42214  0.189066\n",
              "3    0      13992  0.062667\n",
              "4    b        711  0.003184\n",
              "5    a        647  0.002898\n",
              "6    c        474  0.002123\n",
              "7  NaN        436  0.001953\n",
              "8    d        213  0.000954"
            ]
          },
          "metadata": {
            "tags": []
          },
          "execution_count": 105
        }
      ]
    },
    {
      "cell_type": "markdown",
      "metadata": {
        "id": "pN_QiIqtk8PW",
        "colab_type": "text"
      },
      "source": [
        "####Analisi `Programma`"
      ]
    },
    {
      "cell_type": "code",
      "metadata": {
        "id": "XZtJ-HlKIdec",
        "colab_type": "code",
        "outputId": "6b34e59f-2f0b-4f9a-cd9a-4f33d2d6b3b6",
        "colab": {
          "base_uri": "https://localhost:8080/",
          "height": 585
        }
      },
      "source": [
        "#Analisi Programma\n",
        "\n",
        "#Elaborazione per plot\n",
        "dbp = db\n",
        "dbp.Programma = dbp.Programma.apply(str)\n",
        "dbp.Programma = pd.factorize(dbp.Programma)[0]\n",
        "\n",
        "sns.set(style=\"darkgrid\")\n",
        "plt.subplot(111)\n",
        "ax1 = sns.countplot(x=\"Programma\", data=dbp, palette=\"Set1\")\n",
        "plt.title(\"Frequenza di classe\")\n",
        "plt.show()\n",
        "\n",
        "plt.subplot(111)\n",
        "ax = sns.countplot(x=\"Programma\", data=dbp, palette=\"Set1\")\n",
        "ax.set_yscale('log')\n",
        "plt.title(\"Log-Frequenza di classe\")\n",
        "plt.show()"
      ],
      "execution_count": 91,
      "outputs": [
        {
          "output_type": "display_data",
          "data": {
            "image/png": "[encoded data removed]",
            "text/plain": [
              "<Figure size 432x288 with 1 Axes>"
            ]
          },
          "metadata": {
            "tags": []
          }
        },
        {
          "output_type": "display_data",
          "data": {
            "image/png": "[encoded data removed]",
            "text/plain": [
              "<Figure size 432x288 with 1 Axes>"
            ]
          },
          "metadata": {
            "tags": []
          }
        }
      ]
    },
    {
      "cell_type": "code",
      "metadata": {
        "id": "yTXQJcrWYQNB",
        "colab_type": "code",
        "colab": {
          "base_uri": "https://localhost:8080/",
          "height": 638
        },
        "outputId": "516972c2-88cb-4ce9-a96c-66154f02e2df"
      },
      "source": [
        "#Mostra il nome e la frequenza di ogni programma\n",
        "P = pd.DataFrame.from_dict(dict(Counter(db.Programma)),orient='index').reset_index()\n",
        "P.columns = ['K','V']\n",
        "P.reset_index()\n",
        "P_ = P.sort_values('V',ascending=False)\n",
        "P_ = P_.reset_index()\n",
        "P_.columns = ['Fattore','Nome','Frequenza']\n",
        "#Aggiung freq relativa\n",
        "P_['%'] = P_.Frequenza/len(db)\n",
        "P_"
      ],
      "execution_count": 100,
      "outputs": [
        {
          "output_type": "execute_result",
          "data": {
            "text/html": [
              "<div>\n",
              "<style scoped>\n",
              "    .dataframe tbody tr th:only-of-type {\n",
              "        vertical-align: middle;\n",
              "    }\n",
              "\n",
              "    .dataframe tbody tr th {\n",
              "        vertical-align: top;\n",
              "    }\n",
              "\n",
              "    .dataframe thead th {\n",
              "        text-align: right;\n",
              "    }\n",
              "</style>\n",
              "<table border=\"1\" class=\"dataframe\">\n",
              "  <thead>\n",
              "    <tr style=\"text-align: right;\">\n",
              "      <th></th>\n",
              "      <th>Fattore</th>\n",
              "      <th>Nome</th>\n",
              "      <th>Frequenza</th>\n",
              "      <th>%</th>\n",
              "    </tr>\n",
              "  </thead>\n",
              "  <tbody>\n",
              "    <tr>\n",
              "      <th>0</th>\n",
              "      <td>0</td>\n",
              "      <td>18_GP5_910_CW.DBF</td>\n",
              "      <td>173972</td>\n",
              "      <td>0.779179</td>\n",
              "    </tr>\n",
              "    <tr>\n",
              "      <th>1</th>\n",
              "      <td>1</td>\n",
              "      <td>17_GP5_430_CCW.DBF</td>\n",
              "      <td>23641</td>\n",
              "      <td>0.105882</td>\n",
              "    </tr>\n",
              "    <tr>\n",
              "      <th>2</th>\n",
              "      <td>2</td>\n",
              "      <td>12_GP5_430B_D1.DBF</td>\n",
              "      <td>18932</td>\n",
              "      <td>0.084792</td>\n",
              "    </tr>\n",
              "    <tr>\n",
              "      <th>3</th>\n",
              "      <td>16</td>\n",
              "      <td>15_GP5_340_CCW.DBF</td>\n",
              "      <td>2029</td>\n",
              "      <td>0.009087</td>\n",
              "    </tr>\n",
              "    <tr>\n",
              "      <th>4</th>\n",
              "      <td>10</td>\n",
              "      <td>14_GP5_340_D1.DBF</td>\n",
              "      <td>1504</td>\n",
              "      <td>0.006736</td>\n",
              "    </tr>\n",
              "    <tr>\n",
              "      <th>5</th>\n",
              "      <td>4</td>\n",
              "      <td>13_GP5_500_CW.DBF</td>\n",
              "      <td>1234</td>\n",
              "      <td>0.005527</td>\n",
              "    </tr>\n",
              "    <tr>\n",
              "      <th>6</th>\n",
              "      <td>7</td>\n",
              "      <td>16_GP5_500_CCW.DBF</td>\n",
              "      <td>876</td>\n",
              "      <td>0.003923</td>\n",
              "    </tr>\n",
              "    <tr>\n",
              "      <th>7</th>\n",
              "      <td>6</td>\n",
              "      <td>05_GP5_340_S1.DBF</td>\n",
              "      <td>821</td>\n",
              "      <td>0.003677</td>\n",
              "    </tr>\n",
              "    <tr>\n",
              "      <th>8</th>\n",
              "      <td>5</td>\n",
              "      <td>058_GP5_CAMERARIDOTTA.DBF</td>\n",
              "      <td>95</td>\n",
              "      <td>0.000425</td>\n",
              "    </tr>\n",
              "    <tr>\n",
              "      <th>9</th>\n",
              "      <td>17</td>\n",
              "      <td>19_GP5S-CAMRID_CW.DBF</td>\n",
              "      <td>31</td>\n",
              "      <td>0.000139</td>\n",
              "    </tr>\n",
              "    <tr>\n",
              "      <th>10</th>\n",
              "      <td>12</td>\n",
              "      <td>03_MASTER3_D1_MASTER.DBF</td>\n",
              "      <td>26</td>\n",
              "      <td>0.000116</td>\n",
              "    </tr>\n",
              "    <tr>\n",
              "      <th>11</th>\n",
              "      <td>13</td>\n",
              "      <td>04_MASTER1_S1_MASTER.DBF</td>\n",
              "      <td>26</td>\n",
              "      <td>0.000116</td>\n",
              "    </tr>\n",
              "    <tr>\n",
              "      <th>12</th>\n",
              "      <td>9</td>\n",
              "      <td>01_MASTER1_D1_MASTER.DBF</td>\n",
              "      <td>26</td>\n",
              "      <td>0.000116</td>\n",
              "    </tr>\n",
              "    <tr>\n",
              "      <th>13</th>\n",
              "      <td>14</td>\n",
              "      <td>05_MASTER2_S1_MASTER.DBF</td>\n",
              "      <td>25</td>\n",
              "      <td>0.000112</td>\n",
              "    </tr>\n",
              "    <tr>\n",
              "      <th>14</th>\n",
              "      <td>15</td>\n",
              "      <td>06_MASTER3_S1_MASTER.DBF</td>\n",
              "      <td>25</td>\n",
              "      <td>0.000112</td>\n",
              "    </tr>\n",
              "    <tr>\n",
              "      <th>15</th>\n",
              "      <td>8</td>\n",
              "      <td>01_GP5_430_S1.DBF</td>\n",
              "      <td>6</td>\n",
              "      <td>0.000027</td>\n",
              "    </tr>\n",
              "    <tr>\n",
              "      <th>16</th>\n",
              "      <td>3</td>\n",
              "      <td>08_GP5_910_D1.DBF</td>\n",
              "      <td>4</td>\n",
              "      <td>0.000018</td>\n",
              "    </tr>\n",
              "    <tr>\n",
              "      <th>17</th>\n",
              "      <td>11</td>\n",
              "      <td>04_GP5_500_D1.DBF</td>\n",
              "      <td>2</td>\n",
              "      <td>0.000009</td>\n",
              "    </tr>\n",
              "    <tr>\n",
              "      <th>18</th>\n",
              "      <td>18</td>\n",
              "      <td>NaN</td>\n",
              "      <td>1</td>\n",
              "      <td>0.000004</td>\n",
              "    </tr>\n",
              "  </tbody>\n",
              "</table>\n",
              "</div>"
            ],
            "text/plain": [
              "    Fattore                       Nome  Frequenza         %\n",
              "0         0          18_GP5_910_CW.DBF     173972  0.779179\n",
              "1         1         17_GP5_430_CCW.DBF      23641  0.105882\n",
              "2         2         12_GP5_430B_D1.DBF      18932  0.084792\n",
              "3        16         15_GP5_340_CCW.DBF       2029  0.009087\n",
              "4        10          14_GP5_340_D1.DBF       1504  0.006736\n",
              "5         4          13_GP5_500_CW.DBF       1234  0.005527\n",
              "6         7         16_GP5_500_CCW.DBF        876  0.003923\n",
              "7         6          05_GP5_340_S1.DBF        821  0.003677\n",
              "8         5  058_GP5_CAMERARIDOTTA.DBF         95  0.000425\n",
              "9        17      19_GP5S-CAMRID_CW.DBF         31  0.000139\n",
              "10       12   03_MASTER3_D1_MASTER.DBF         26  0.000116\n",
              "11       13   04_MASTER1_S1_MASTER.DBF         26  0.000116\n",
              "12        9   01_MASTER1_D1_MASTER.DBF         26  0.000116\n",
              "13       14   05_MASTER2_S1_MASTER.DBF         25  0.000112\n",
              "14       15   06_MASTER3_S1_MASTER.DBF         25  0.000112\n",
              "15        8          01_GP5_430_S1.DBF          6  0.000027\n",
              "16        3          08_GP5_910_D1.DBF          4  0.000018\n",
              "17       11          04_GP5_500_D1.DBF          2  0.000009\n",
              "18       18                        NaN          1  0.000004"
            ]
          },
          "metadata": {
            "tags": []
          },
          "execution_count": 100
        }
      ]
    },
    {
      "cell_type": "markdown",
      "metadata": {
        "id": "g1CAAbNllAdz",
        "colab_type": "text"
      },
      "source": [
        "####Analisi `esito`"
      ]
    },
    {
      "cell_type": "code",
      "metadata": {
        "id": "bQnTg4tiI15v",
        "colab_type": "code",
        "outputId": "d43cef55-840d-4b7c-fc42-3e601c93cea0",
        "colab": {
          "base_uri": "https://localhost:8080/",
          "height": 585
        }
      },
      "source": [
        "#Analisi Esito\n",
        "\n",
        "#Elaborazione per plot\n",
        "dbp.esito = dbp.esito.apply(str)\n",
        "l1 = pd.Series(pd.factorize(dbp.esito)[1])\n",
        "l2 = pd.Series(db.esito.unique())\n",
        "dbp.esito = pd.factorize(dbp.esito)[0]\n",
        "\n",
        "plt.subplot(111)\n",
        "ax1 = sns.countplot(x=\"esito\", data=dbp, palette=\"Set1\")\n",
        "plt.title(\"Frequenza di classe\")\n",
        "plt.show()\n",
        "\n",
        "plt.subplot(111)\n",
        "ax = sns.countplot(x=\"esito\", data=dbp, palette=\"Set1\")\n",
        "ax.set_yscale('log')\n",
        "plt.title(\"Log-Frequenza di classe\")\n",
        "plt.show()"
      ],
      "execution_count": 95,
      "outputs": [
        {
          "output_type": "display_data",
          "data": {
            "image/png": "[encoded data removed]",
            "text/plain": [
              "<Figure size 432x288 with 1 Axes>"
            ]
          },
          "metadata": {
            "tags": []
          }
        },
        {
          "output_type": "display_data",
          "data": {
            "image/png": "[encoded data removed]",
            "text/plain": [
              "<Figure size 432x288 with 1 Axes>"
            ]
          },
          "metadata": {
            "tags": []
          }
        }
      ]
    },
    {
      "cell_type": "code",
      "metadata": {
        "id": "Cx1HRUkwdHAV",
        "colab_type": "code",
        "colab": {
          "base_uri": "https://localhost:8080/",
          "height": 824
        },
        "outputId": "e694fd12-babc-4986-96cc-0abaef7c62f3"
      },
      "source": [
        "#Mostra il nome e la frequenza di ogni esito\n",
        "P = pd.DataFrame.from_dict(dict(Counter(db.esito)),orient='index').reset_index()\n",
        "P.columns = ['K','V']\n",
        "P.reset_index()\n",
        "P_ = P.sort_values('V',ascending=False)\n",
        "P_ = P_.reset_index()\n",
        "P_.columns = ['Fattore','Nome','Frequenza']\n",
        "#Aggiungi frequenza relativa\n",
        "P_['%'] = P_.Frequenza/len(db)\n",
        "P_"
      ],
      "execution_count": 101,
      "outputs": [
        {
          "output_type": "execute_result",
          "data": {
            "text/html": [
              "<div>\n",
              "<style scoped>\n",
              "    .dataframe tbody tr th:only-of-type {\n",
              "        vertical-align: middle;\n",
              "    }\n",
              "\n",
              "    .dataframe tbody tr th {\n",
              "        vertical-align: top;\n",
              "    }\n",
              "\n",
              "    .dataframe thead th {\n",
              "        text-align: right;\n",
              "    }\n",
              "</style>\n",
              "<table border=\"1\" class=\"dataframe\">\n",
              "  <thead>\n",
              "    <tr style=\"text-align: right;\">\n",
              "      <th></th>\n",
              "      <th>Fattore</th>\n",
              "      <th>Nome</th>\n",
              "      <th>Frequenza</th>\n",
              "      <th>%</th>\n",
              "    </tr>\n",
              "  </thead>\n",
              "  <tbody>\n",
              "    <tr>\n",
              "      <th>0</th>\n",
              "      <td>0</td>\n",
              "      <td>PEZZO BUONO                                   ...</td>\n",
              "      <td>222031</td>\n",
              "      <td>0.994424</td>\n",
              "    </tr>\n",
              "    <tr>\n",
              "      <th>1</th>\n",
              "      <td>2</td>\n",
              "      <td>SCARTO PICCO COPPIA MAX FASE PULIZIA INIZIALE ...</td>\n",
              "      <td>373</td>\n",
              "      <td>0.001671</td>\n",
              "    </tr>\n",
              "    <tr>\n",
              "      <th>2</th>\n",
              "      <td>10</td>\n",
              "      <td>SCARTO PORTATA CONTROLLO VELOCITA'1 MIN MEDIA ...</td>\n",
              "      <td>241</td>\n",
              "      <td>0.001079</td>\n",
              "    </tr>\n",
              "    <tr>\n",
              "      <th>3</th>\n",
              "      <td>15</td>\n",
              "      <td>SCARTO COPPIA FINALE MAX MEDIA                ...</td>\n",
              "      <td>171</td>\n",
              "      <td>0.000766</td>\n",
              "    </tr>\n",
              "    <tr>\n",
              "      <th>4</th>\n",
              "      <td>8</td>\n",
              "      <td>SCARTO PORTATA VELOCITA' A REGIME MAX PICCO   ...</td>\n",
              "      <td>92</td>\n",
              "      <td>0.000412</td>\n",
              "    </tr>\n",
              "    <tr>\n",
              "      <th>5</th>\n",
              "      <td>7</td>\n",
              "      <td>SCARTO PRESSIONE CONTROLLO VELOCITA'1 MIN MEDI...</td>\n",
              "      <td>87</td>\n",
              "      <td>0.000390</td>\n",
              "    </tr>\n",
              "    <tr>\n",
              "      <th>6</th>\n",
              "      <td>21</td>\n",
              "      <td>SCARTO COPPIA MAX CICLO                       ...</td>\n",
              "      <td>71</td>\n",
              "      <td>0.000318</td>\n",
              "    </tr>\n",
              "    <tr>\n",
              "      <th>7</th>\n",
              "      <td>4</td>\n",
              "      <td>SCARTO PORTATA VELOCITA' A REGIME MIN MEDIA   ...</td>\n",
              "      <td>48</td>\n",
              "      <td>0.000215</td>\n",
              "    </tr>\n",
              "    <tr>\n",
              "      <th>8</th>\n",
              "      <td>1</td>\n",
              "      <td>ANOMALIA AGGANCIO                             ...</td>\n",
              "      <td>40</td>\n",
              "      <td>0.000179</td>\n",
              "    </tr>\n",
              "    <tr>\n",
              "      <th>9</th>\n",
              "      <td>5</td>\n",
              "      <td>SCARTO PRESSIONE VELOCITA' A REGIME MAX PICCO ...</td>\n",
              "      <td>22</td>\n",
              "      <td>0.000099</td>\n",
              "    </tr>\n",
              "    <tr>\n",
              "      <th>10</th>\n",
              "      <td>6</td>\n",
              "      <td>SCARTO PRESSIONE VELOCITA' A REGIME MIN PICCO ...</td>\n",
              "      <td>21</td>\n",
              "      <td>0.000094</td>\n",
              "    </tr>\n",
              "    <tr>\n",
              "      <th>11</th>\n",
              "      <td>12</td>\n",
              "      <td>CONTROLLO VELOCITA'1                          ...</td>\n",
              "      <td>16</td>\n",
              "      <td>0.000072</td>\n",
              "    </tr>\n",
              "    <tr>\n",
              "      <th>12</th>\n",
              "      <td>13</td>\n",
              "      <td>ANOMALIA CARICO BLOCCAGGIO MIN                ...</td>\n",
              "      <td>13</td>\n",
              "      <td>0.000058</td>\n",
              "    </tr>\n",
              "    <tr>\n",
              "      <th>13</th>\n",
              "      <td>22</td>\n",
              "      <td>PROVA INTERROTTA                              ...</td>\n",
              "      <td>13</td>\n",
              "      <td>0.000058</td>\n",
              "    </tr>\n",
              "    <tr>\n",
              "      <th>14</th>\n",
              "      <td>11</td>\n",
              "      <td>SCARTO PORTATA VELOCITA' A REGIME MAX MEDIA   ...</td>\n",
              "      <td>11</td>\n",
              "      <td>0.000049</td>\n",
              "    </tr>\n",
              "    <tr>\n",
              "      <th>15</th>\n",
              "      <td>23</td>\n",
              "      <td>SCARTO PICCO COPPIA MAX FASE RIEMPIMENTO      ...</td>\n",
              "      <td>6</td>\n",
              "      <td>0.000027</td>\n",
              "    </tr>\n",
              "    <tr>\n",
              "      <th>16</th>\n",
              "      <td>14</td>\n",
              "      <td>SCARTO COPPIA FINALE MAX PICCO                ...</td>\n",
              "      <td>5</td>\n",
              "      <td>0.000022</td>\n",
              "    </tr>\n",
              "    <tr>\n",
              "      <th>17</th>\n",
              "      <td>16</td>\n",
              "      <td>CONTROLLO COPPIA FINALE                       ...</td>\n",
              "      <td>3</td>\n",
              "      <td>0.000013</td>\n",
              "    </tr>\n",
              "    <tr>\n",
              "      <th>18</th>\n",
              "      <td>17</td>\n",
              "      <td>SCARTO PORTATA CONTROLLO VELOCITA'1 MAX MEDIA ...</td>\n",
              "      <td>3</td>\n",
              "      <td>0.000013</td>\n",
              "    </tr>\n",
              "    <tr>\n",
              "      <th>19</th>\n",
              "      <td>20</td>\n",
              "      <td>RIEMPIMENTO                                   ...</td>\n",
              "      <td>3</td>\n",
              "      <td>0.000013</td>\n",
              "    </tr>\n",
              "    <tr>\n",
              "      <th>20</th>\n",
              "      <td>9</td>\n",
              "      <td>BLOCCAGGIO                                    ...</td>\n",
              "      <td>2</td>\n",
              "      <td>0.000009</td>\n",
              "    </tr>\n",
              "    <tr>\n",
              "      <th>21</th>\n",
              "      <td>18</td>\n",
              "      <td>SVUOTAMENTO                                   ...</td>\n",
              "      <td>1</td>\n",
              "      <td>0.000004</td>\n",
              "    </tr>\n",
              "    <tr>\n",
              "      <th>22</th>\n",
              "      <td>19</td>\n",
              "      <td>MARCATURA...                                  ...</td>\n",
              "      <td>1</td>\n",
              "      <td>0.000004</td>\n",
              "    </tr>\n",
              "    <tr>\n",
              "      <th>23</th>\n",
              "      <td>3</td>\n",
              "      <td>ZERO TRASDUTTORI                              ...</td>\n",
              "      <td>1</td>\n",
              "      <td>0.000004</td>\n",
              "    </tr>\n",
              "    <tr>\n",
              "      <th>24</th>\n",
              "      <td>24</td>\n",
              "      <td>NaN</td>\n",
              "      <td>1</td>\n",
              "      <td>0.000004</td>\n",
              "    </tr>\n",
              "  </tbody>\n",
              "</table>\n",
              "</div>"
            ],
            "text/plain": [
              "    Fattore  ...         %\n",
              "0         0  ...  0.994424\n",
              "1         2  ...  0.001671\n",
              "2        10  ...  0.001079\n",
              "3        15  ...  0.000766\n",
              "4         8  ...  0.000412\n",
              "5         7  ...  0.000390\n",
              "6        21  ...  0.000318\n",
              "7         4  ...  0.000215\n",
              "8         1  ...  0.000179\n",
              "9         5  ...  0.000099\n",
              "10        6  ...  0.000094\n",
              "11       12  ...  0.000072\n",
              "12       13  ...  0.000058\n",
              "13       22  ...  0.000058\n",
              "14       11  ...  0.000049\n",
              "15       23  ...  0.000027\n",
              "16       14  ...  0.000022\n",
              "17       16  ...  0.000013\n",
              "18       17  ...  0.000013\n",
              "19       20  ...  0.000013\n",
              "20        9  ...  0.000009\n",
              "21       18  ...  0.000004\n",
              "22       19  ...  0.000004\n",
              "23        3  ...  0.000004\n",
              "24       24  ...  0.000004\n",
              "\n",
              "[25 rows x 4 columns]"
            ]
          },
          "metadata": {
            "tags": []
          },
          "execution_count": 101
        }
      ]
    },
    {
      "cell_type": "markdown",
      "metadata": {
        "id": "kAY4ZWxtnTiO",
        "colab_type": "text"
      },
      "source": [
        "####Rimozione `n_esito`\n",
        "`n_esito` è la versione numerica di `esito"
      ]
    },
    {
      "cell_type": "code",
      "metadata": {
        "id": "jJgzSZpnnbjW",
        "colab_type": "code",
        "colab": {}
      },
      "source": [
        "db.drop(['n_esito'], axis='columns', inplace=True)"
      ],
      "execution_count": 0,
      "outputs": []
    },
    {
      "cell_type": "markdown",
      "metadata": {
        "id": "BZvnRwvfmhFz",
        "colab_type": "text"
      },
      "source": [
        "###**Variabili numeriche**"
      ]
    },
    {
      "cell_type": "code",
      "metadata": {
        "id": "WsBr6576mkUJ",
        "colab_type": "code",
        "colab": {}
      },
      "source": [
        "categ = ['Turno','Programma','esito','Data_ora']\n",
        "db_num = db.drop([i for i in categ], axis='columns')"
      ],
      "execution_count": 0,
      "outputs": []
    },
    {
      "cell_type": "code",
      "metadata": {
        "id": "YFJfhZ9PnFqj",
        "colab_type": "code",
        "colab": {
          "base_uri": "https://localhost:8080/",
          "height": 100
        },
        "outputId": "9610168a-07fd-4cc8-ad71-defbe0093b1c"
      },
      "source": [
        "db_num.head(1)"
      ],
      "execution_count": 6,
      "outputs": [
        {
          "output_type": "execute_result",
          "data": {
            "text/html": [
              "<div>\n",
              "<style scoped>\n",
              "    .dataframe tbody tr th:only-of-type {\n",
              "        vertical-align: middle;\n",
              "    }\n",
              "\n",
              "    .dataframe tbody tr th {\n",
              "        vertical-align: top;\n",
              "    }\n",
              "\n",
              "    .dataframe thead th {\n",
              "        text-align: right;\n",
              "    }\n",
              "</style>\n",
              "<table border=\"1\" class=\"dataframe\">\n",
              "  <thead>\n",
              "    <tr style=\"text-align: right;\">\n",
              "      <th></th>\n",
              "      <th>picco_pressione_velocita_1</th>\n",
              "      <th>picco_coppia_finale</th>\n",
              "      <th>picco_portata_velocita_1</th>\n",
              "      <th>Temperatura</th>\n",
              "      <th>media_pressione_velocita_1</th>\n",
              "      <th>media_coppia_finale</th>\n",
              "      <th>media_coppia_zero</th>\n",
              "      <th>media_portata_velocita_a_regime</th>\n",
              "      <th>picco_pressione_velocita_a_regime</th>\n",
              "      <th>media_portata_velocita_1</th>\n",
              "      <th>coppia_max_ciclo</th>\n",
              "      <th>velocita_a_regime</th>\n",
              "      <th>picco_portata_velocita_a_regime</th>\n",
              "      <th>media_pressione_velocita_a_regime</th>\n",
              "    </tr>\n",
              "  </thead>\n",
              "  <tbody>\n",
              "    <tr>\n",
              "      <th>0</th>\n",
              "      <td>1.674603</td>\n",
              "      <td>0.204679</td>\n",
              "      <td>51.519997</td>\n",
              "      <td>42.196945</td>\n",
              "      <td>1.643796</td>\n",
              "      <td>0.1438</td>\n",
              "      <td>0.000917</td>\n",
              "      <td>1341.342041</td>\n",
              "      <td>12.209582</td>\n",
              "      <td>51.481518</td>\n",
              "      <td>0.0</td>\n",
              "      <td>2300.0</td>\n",
              "      <td>1343.039795</td>\n",
              "      <td>12.041801</td>\n",
              "    </tr>\n",
              "  </tbody>\n",
              "</table>\n",
              "</div>"
            ],
            "text/plain": [
              "   picco_pressione_velocita_1  ...  media_pressione_velocita_a_regime\n",
              "0                    1.674603  ...                          12.041801\n",
              "\n",
              "[1 rows x 14 columns]"
            ]
          },
          "metadata": {
            "tags": []
          },
          "execution_count": 6
        }
      ]
    },
    {
      "cell_type": "markdown",
      "metadata": {
        "id": "A32cHHQ5qO2k",
        "colab_type": "text"
      },
      "source": [
        "####**Descrittori della pressione**"
      ]
    },
    {
      "cell_type": "markdown",
      "metadata": {
        "id": "6KFzMvsmrb00",
        "colab_type": "text"
      },
      "source": [
        "Correlazione e poi, in base alle variabili più correlate boxplot per le classi come [qui](https://seaborn.pydata.org/generated/seaborn.violinplot.html) e anche con le categoriche:\n",
        "- esito\n",
        "- turno"
      ]
    },
    {
      "cell_type": "code",
      "metadata": {
        "id": "tBnOm-GZqE-K",
        "colab_type": "code",
        "colab": {}
      },
      "source": [
        "#Selezione delle variabili che riguardano la pressione\n",
        "press = ['picco_pressione_velocita_1','media_pressione_velocita_1','picco_pressione_velocita_a_regime',\n",
        "         'media_pressione_velocita_a_regime']        "
      ],
      "execution_count": 0,
      "outputs": []
    },
    {
      "cell_type": "code",
      "metadata": {
        "id": "E9EELZ7ey59T",
        "colab_type": "code",
        "colab": {
          "base_uri": "https://localhost:8080/",
          "height": 509
        },
        "outputId": "7c0bfb24-0b46-4405-d8d8-4eb3bf7261b8"
      },
      "source": [
        "#Distribuzione\n",
        "\n",
        "for i in press: \n",
        "    fig, ax = plt.subplots(1, 1, figsize=(4,3))                      \n",
        "    sns.distplot(db[i])\n",
        "    plt.title(str(i)) \n",
        "    oPlot.add_plot(ax) \n",
        "    plt.close() \n",
        "oPlot.PassHtmlToCell()"
      ],
      "execution_count": 8,
      "outputs": [
        {
          "output_type": "display_data",
          "data": {
            "text/html": [
              "\n",
              "        <style>\n",
              "        .floating-box {\n",
              "        display: inline-block;\n",
              "        margin: 10px;\n",
              "        border: 3px solid #888888;  \n",
              "        }\n",
              "        </style>\n",
              "        <div class=\"floating-box\"><img src=\"data:image/png;base64,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\n",
              "\"></div><div class=\"floating-box\"><img src=\"data:image/png;base64,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\n",
              "\"></div><div class=\"floating-box\"><img src=\"data:image/png;base64,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\n",
              "\"></div><div class=\"floating-box\"><img src=\"data:image/png;base64,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\n",
              "\"></div>"
            ],
            "text/plain": [
              "<IPython.core.display.HTML object>"
            ]
          },
          "metadata": {
            "tags": []
          }
        }
      ]
    },
    {
      "cell_type": "code",
      "metadata": {
        "id": "IaEXyvGOsBXG",
        "colab_type": "code",
        "colab": {
          "base_uri": "https://localhost:8080/",
          "height": 569
        },
        "outputId": "64c5a683-dfc7-4451-ddc9-7710540d028b"
      },
      "source": [
        "#Violiplot\n",
        "def plotter(g,nrows=2,ncols=2):\n",
        "  fig, axs = plt.subplots(nrows, ncols)\n",
        "  k=0\n",
        "  for i in press:\n",
        "    axs[k].plot(g(db[i]))\n",
        "    k=k+1\n",
        "\n",
        "plotter(g=sns.distplot)"
      ],
      "execution_count": 16,
      "outputs": [
        {
          "output_type": "error",
          "ename": "AttributeError",
          "evalue": "ignored",
          "traceback": [
            "\u001b[0;31m---------------------------------------------------------------------------\u001b[0m",
            "\u001b[0;31mAttributeError\u001b[0m                            Traceback (most recent call last)",
            "\u001b[0;32m<ipython-input-16-7f512a03533f>\u001b[0m in \u001b[0;36m<module>\u001b[0;34m()\u001b[0m\n\u001b[1;32m      7\u001b[0m     \u001b[0mk\u001b[0m\u001b[0;34m=\u001b[0m\u001b[0mk\u001b[0m\u001b[0;34m+\u001b[0m\u001b[0;36m1\u001b[0m\u001b[0;34m\u001b[0m\u001b[0;34m\u001b[0m\u001b[0m\n\u001b[1;32m      8\u001b[0m \u001b[0;34m\u001b[0m\u001b[0m\n\u001b[0;32m----> 9\u001b[0;31m \u001b[0mplotter\u001b[0m\u001b[0;34m(\u001b[0m\u001b[0mg\u001b[0m\u001b[0;34m=\u001b[0m\u001b[0msns\u001b[0m\u001b[0;34m.\u001b[0m\u001b[0mdistplot\u001b[0m\u001b[0;34m)\u001b[0m\u001b[0;34m\u001b[0m\u001b[0;34m\u001b[0m\u001b[0m\n\u001b[0m",
            "\u001b[0;32m<ipython-input-16-7f512a03533f>\u001b[0m in \u001b[0;36mplotter\u001b[0;34m(g, nrows, ncols)\u001b[0m\n\u001b[1;32m      4\u001b[0m   \u001b[0mk\u001b[0m\u001b[0;34m=\u001b[0m\u001b[0;36m0\u001b[0m\u001b[0;34m\u001b[0m\u001b[0;34m\u001b[0m\u001b[0m\n\u001b[1;32m      5\u001b[0m   \u001b[0;32mfor\u001b[0m \u001b[0mi\u001b[0m \u001b[0;32min\u001b[0m \u001b[0mpress\u001b[0m\u001b[0;34m:\u001b[0m\u001b[0;34m\u001b[0m\u001b[0;34m\u001b[0m\u001b[0m\n\u001b[0;32m----> 6\u001b[0;31m     \u001b[0maxs\u001b[0m\u001b[0;34m[\u001b[0m\u001b[0mk\u001b[0m\u001b[0;34m]\u001b[0m\u001b[0;34m.\u001b[0m\u001b[0mplot\u001b[0m\u001b[0;34m(\u001b[0m\u001b[0mg\u001b[0m\u001b[0;34m(\u001b[0m\u001b[0mdb\u001b[0m\u001b[0;34m[\u001b[0m\u001b[0mi\u001b[0m\u001b[0;34m]\u001b[0m\u001b[0;34m)\u001b[0m\u001b[0;34m)\u001b[0m\u001b[0;34m\u001b[0m\u001b[0;34m\u001b[0m\u001b[0m\n\u001b[0m\u001b[1;32m      7\u001b[0m     \u001b[0mk\u001b[0m\u001b[0;34m=\u001b[0m\u001b[0mk\u001b[0m\u001b[0;34m+\u001b[0m\u001b[0;36m1\u001b[0m\u001b[0;34m\u001b[0m\u001b[0;34m\u001b[0m\u001b[0m\n\u001b[1;32m      8\u001b[0m \u001b[0;34m\u001b[0m\u001b[0m\n",
            "\u001b[0;31mAttributeError\u001b[0m: 'numpy.ndarray' object has no attribute 'plot'"
          ]
        },
        {
          "output_type": "display_data",
          "data": {
            "image/png": "[encoded data removed]",
            "text/plain": [
              "<Figure size 432x288 with 4 Axes>"
            ]
          },
          "metadata": {
            "tags": [],
            "needs_background": "light"
          }
        }
      ]
    },
    {
      "cell_type": "markdown",
      "metadata": {
        "id": "iKiwEiOdGgzW",
        "colab_type": "text"
      },
      "source": [
        "Valori mancanti"
      ]
    },
    {
      "cell_type": "code",
      "metadata": {
        "id": "qEO0ajOQPIal",
        "colab_type": "code",
        "outputId": "f9721af7-2952-47ca-9c19-3dffc8c5751d",
        "colab": {
          "base_uri": "https://localhost:8080/",
          "height": 265
        }
      },
      "source": [
        "import matplotlib.pyplot as plt\n",
        "db_ = db_ord[['Data_ora','Temperatura']]\n",
        "line_chart = plt.plot(db_['Temperatura'])\n",
        "#plt.title()\n",
        "plt.show()"
      ],
      "execution_count": 0,
      "outputs": [
        {
          "output_type": "display_data",
          "data": {
            "image/png": "[encoded data removed]",
            "text/plain": [
              "<Figure size 432x288 with 1 Axes>"
            ]
          },
          "metadata": {
            "tags": [],
            "needs_background": "light"
          }
        }
      ]
    }
  ]
}