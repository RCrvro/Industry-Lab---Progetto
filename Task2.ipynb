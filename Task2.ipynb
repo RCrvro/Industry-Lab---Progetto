{
  "nbformat": 4,
  "nbformat_minor": 0,
  "metadata": {
    "colab": {
      "name": "Task2.ipynb",
      "provenance": [],
      "collapsed_sections": []
    },
    "kernelspec": {
      "name": "python3",
      "display_name": "Python 3"
    }
  },
  "cells": [
    {
      "cell_type": "markdown",
      "metadata": {
        "id": "N--O1Ve97DtT",
        "colab_type": "text"
      },
      "source": [
        "$QGP = QGP,_{theor} − \\alpha · Pout$"
      ]
    },
    {
      "cell_type": "markdown",
      "metadata": {
        "id": "kQlyNZGR7Rdk",
        "colab_type": "text"
      },
      "source": [
        "Dobbiamo trovare il range per $QGP$ per le due classi di pompe:\n",
        "\n",
        "- **Pompa DAI (Daimler)**: programma \"18_GP5_910_CW\"\n",
        "- **Pompa STD**: tutti gli altri tipi di pompa"
      ]
    },
    {
      "cell_type": "markdown",
      "metadata": {
        "id": "WI1xtSYL70vJ",
        "colab_type": "text"
      },
      "source": [
        "Input della funzione:\n",
        "\n",
        "- $\\alpha$\n",
        "- $Pout$ \n",
        "- Tipo di pompa"
      ]
    },
    {
      "cell_type": "code",
      "metadata": {
        "id": "tzOxRBW58kMs",
        "colab_type": "code",
        "colab": {
          "base_uri": "https://localhost:8080/",
          "height": 34
        },
        "outputId": "22a27035-ec7e-4f68-a7ce-52048f62654c"
      },
      "source": [
        "alpha = float(input(\"Inserire valore di alpha: \"))"
      ],
      "execution_count": 1,
      "outputs": [
        {
          "output_type": "stream",
          "text": [
            "Inserire valore di alpha: 30\n"
          ],
          "name": "stdout"
        }
      ]
    },
    {
      "cell_type": "code",
      "metadata": {
        "id": "seFRtvMJ9vf5",
        "colab_type": "code",
        "colab": {
          "base_uri": "https://localhost:8080/",
          "height": 34
        },
        "outputId": "8ff0537a-942f-4230-d9f7-58d881fef9d6"
      },
      "source": [
        "Pout = float(input(\"Inserire valore di Pout: \"))"
      ],
      "execution_count": 2,
      "outputs": [
        {
          "output_type": "stream",
          "text": [
            "Inserire valore di Pout: 1.7\n"
          ],
          "name": "stdout"
        }
      ]
    },
    {
      "cell_type": "code",
      "metadata": {
        "id": "kJoCj0svEFEu",
        "colab_type": "code",
        "colab": {
          "base_uri": "https://localhost:8080/",
          "height": 34
        },
        "outputId": "c80867fc-0537-4146-a78d-09d6cd16bdca"
      },
      "source": [
        "QGP = 108.36 - alpha * Pout\n",
        "print(\"QGP vale: \", QGP)"
      ],
      "execution_count": 3,
      "outputs": [
        {
          "output_type": "stream",
          "text": [
            "QGP vale:  57.36\n"
          ],
          "name": "stdout"
        }
      ]
    },
    {
      "cell_type": "code",
      "metadata": {
        "id": "7g-ITkug-PTz",
        "colab_type": "code",
        "colab": {
          "base_uri": "https://localhost:8080/",
          "height": 34
        },
        "outputId": "9eb6990f-dd51-4ea1-aa33-f565d312f754"
      },
      "source": [
        "Tipo_pompa = (input(\"Inserire il tipo di Pompa (DAI o STD): \"))"
      ],
      "execution_count": 4,
      "outputs": [
        {
          "output_type": "stream",
          "text": [
            "Inserire il tipo di Pompa (DAI o STD): STD\n"
          ],
          "name": "stdout"
        }
      ]
    },
    {
      "cell_type": "markdown",
      "metadata": {
        "id": "XoNRxWFXCS8i",
        "colab_type": "text"
      },
      "source": [
        "Abbiamo considerato i valori BEST e WORSE delle due pompe i valori minimi e massimi consentiti!! (vengono considerati come valori corretti)"
      ]
    },
    {
      "cell_type": "code",
      "metadata": {
        "id": "lmoMXEbB-q-q",
        "colab_type": "code",
        "colab": {
          "base_uri": "https://localhost:8080/",
          "height": 34
        },
        "outputId": "52197a4b-49d2-4725-eb0a-d814aaae0be3"
      },
      "source": [
        "if Tipo_pompa == 'DAI':\n",
        "  if QGP < 45.86:\n",
        "    print(\"Oulier\")\n",
        "  elif QGP > 63.36:\n",
        "    print(\"Oulier\")\n",
        "  else: \n",
        "    print(\"Valore corretto\")\n",
        "elif Tipo_pompa == \"STD\":\n",
        "  if QGP < 57.36:\n",
        "    print(\"Oulier\")\n",
        "  elif QGP > 75.36:\n",
        "    print(\"Oulier\")\n",
        "  else: \n",
        "    print(\"Valore corretto\") \n",
        "else:\n",
        "  print(\"Valore di poma non corretto: deve essere DAI o STD\")"
      ],
      "execution_count": 5,
      "outputs": [
        {
          "output_type": "stream",
          "text": [
            "Valore corretto\n"
          ],
          "name": "stdout"
        }
      ]
    }
  ]
}