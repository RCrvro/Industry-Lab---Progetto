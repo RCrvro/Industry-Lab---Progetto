{
  "nbformat": 4,
  "nbformat_minor": 0,
  "metadata": {
    "colab": {
      "name": "Task2.ipynb",
      "provenance": [],
      "collapsed_sections": []
    },
    "kernelspec": {
      "name": "python3",
      "display_name": "Python 3"
    }
  },
  "cells": [
    {
      "cell_type": "markdown",
      "metadata": {
        "id": "N--O1Ve97DtT",
        "colab_type": "text"
      },
      "source": [
        "$QGP = QGP,_{theor} − \\alpha · Pout$"
      ]
    },
    {
      "cell_type": "markdown",
      "metadata": {
        "id": "kQlyNZGR7Rdk",
        "colab_type": "text"
      },
      "source": [
        "Dobbiamo trovare il range per $QGP$ per le due classi di pompe:\n",
        "\n",
        "- **Pompa DAI (Daimler)**: programma \"18_GP5_910_CW\"\n",
        "- **Pompa STD**: tutti gli altri tipi di pompa"
      ]
    },
    {
      "cell_type": "markdown",
      "metadata": {
        "id": "WI1xtSYL70vJ",
        "colab_type": "text"
      },
      "source": [
        "Input della funzione:\n",
        "\n",
        "- $\\alpha$\n",
        "- $Pout$ \n",
        "- Tipo di pompa"
      ]
    },
    {
      "cell_type": "code",
      "metadata": {
        "id": "tzOxRBW58kMs",
        "colab_type": "code",
        "colab": {
          "base_uri": "https://localhost:8080/",
          "height": 34
        },
        "outputId": "5a8f4b8a-573a-4121-8562-42789ac8c176"
      },
      "source": [
        "alpha = float(input(\"Inserire valore di alpha: \"))"
      ],
      "execution_count": 29,
      "outputs": [
        {
          "output_type": "stream",
          "text": [
            "Inserire valore di alpha: 88.1\n"
          ],
          "name": "stdout"
        }
      ]
    },
    {
      "cell_type": "code",
      "metadata": {
        "id": "seFRtvMJ9vf5",
        "colab_type": "code",
        "colab": {
          "base_uri": "https://localhost:8080/",
          "height": 34
        },
        "outputId": "1605e896-6ef4-4c8c-8583-1f81fb7e48f1"
      },
      "source": [
        "Pout = float(input(\"Inserire valore di Pout: \"))"
      ],
      "execution_count": 30,
      "outputs": [
        {
          "output_type": "stream",
          "text": [
            "Inserire valore di Pout: 88.9\n"
          ],
          "name": "stdout"
        }
      ]
    },
    {
      "cell_type": "code",
      "metadata": {
        "id": "7g-ITkug-PTz",
        "colab_type": "code",
        "colab": {
          "base_uri": "https://localhost:8080/",
          "height": 34
        },
        "outputId": "dca4d52f-f60f-422d-85de-5fdc14d37814"
      },
      "source": [
        "Tipo_pompa = (input(\"Inserire il tipo di Pompa (DAI o STD): \"))"
      ],
      "execution_count": 58,
      "outputs": [
        {
          "output_type": "stream",
          "text": [
            "Inserire il tipo di Pompa (DAI o STD): DAI\n"
          ],
          "name": "stdout"
        }
      ]
    },
    {
      "cell_type": "markdown",
      "metadata": {
        "id": "XoNRxWFXCS8i",
        "colab_type": "text"
      },
      "source": [
        "Abbiamo considerato i valori BEST e WORSE delle due pompe i valori minimi e massimi consentiti!! (vengono considerati come valori corretti)"
      ]
    },
    {
      "cell_type": "code",
      "metadata": {
        "id": "lmoMXEbB-q-q",
        "colab_type": "code",
        "colab": {
          "base_uri": "https://localhost:8080/",
          "height": 34
        },
        "outputId": "94ac9127-6519-4ea0-b24d-c4cd6f2ff732"
      },
      "source": [
        "if Tipo_pompa == 'DAI':\n",
        "  if QGP < 45.86:\n",
        "    print(\"Oulier\")\n",
        "  elif QGP > 63.36:\n",
        "    print(\"Oulier\")\n",
        "  else: \n",
        "    print(\"Valore corretto\")\n",
        "elif Tipo_pompa == \"STD\":\n",
        "  if QGP < 57.36:\n",
        "    print(\"Oulier\")\n",
        "  elif QGP > 75.36:\n",
        "    print(\"Oulier\")\n",
        "  else: \n",
        "    print(\"Valore corretto\") \n",
        "else:\n",
        "  print(\"Valore di poma non corretto: deve essere DAI o STD\")"
      ],
      "execution_count": 59,
      "outputs": [
        {
          "output_type": "stream",
          "text": [
            "Oulier\n"
          ],
          "name": "stdout"
        }
      ]
    }
  ]
}